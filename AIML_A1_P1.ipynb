{
  "nbformat": 4,
  "nbformat_minor": 0,
  "metadata": {
    "colab": {
      "provenance": [],
      "authorship_tag": "ABX9TyNg+X/enMP0dbdW0wHEvgn+",
      "include_colab_link": true
    },
    "kernelspec": {
      "name": "python3",
      "display_name": "Python 3"
    },
    "language_info": {
      "name": "python"
    }
  },
  "cells": [
    {
      "cell_type": "markdown",
      "metadata": {
        "id": "view-in-github",
        "colab_type": "text"
      },
      "source": [
        "<a href=\"https://colab.research.google.com/github/2303A52083/23CSBTB39-40/blob/main/AIML_A1_P1.ipynb\" target=\"_parent\"><img src=\"https://colab.research.google.com/assets/colab-badge.svg\" alt=\"Open In Colab\"/></a>"
      ]
    },
    {
      "cell_type": "markdown",
      "source": [
        "Part 1 – Implement Basic Data Structures using Numpy, Pandas\n"
      ],
      "metadata": {
        "id": "HvbHMaEK-R8b"
      }
    },
    {
      "cell_type": "code",
      "execution_count": 12,
      "metadata": {
        "colab": {
          "base_uri": "https://localhost:8080/"
        },
        "id": "Ic-f78tc-MUx",
        "outputId": "8cecc410-c22f-40d1-98fa-9a62f54ae545"
      },
      "outputs": [
        {
          "output_type": "stream",
          "name": "stdout",
          "text": [
            "[1, 2, 3, 'humera', 4, 5]\n",
            "[6, 7, 8, 'nuzhat', 9, 10]\n",
            "Type of list1: <class 'list'>\n",
            "Type of list2: <class 'list'>\n",
            "[1 2 3 4 5]\n",
            "[ 6  7  8  9 10]\n",
            "Type of array1: <class 'numpy.ndarray'>\n",
            "Type of array2: <class 'numpy.ndarray'>\n",
            "Multiplication of array1 and array2: [ 6 14 24 36 50]\n",
            "Division of array1 by array2: [0.16666667 0.28571429 0.375      0.44444444 0.5       ]\n",
            "Power of array1: [ 1  4  9 16 25]\n",
            "Addition of Two:\n",
            "[1 2 3 4 5] + [ 6  7  8  9 10] = [ 7  9 11 13 15]\n",
            "Sine values of array1: [ 0.84147098  0.90929743  0.14112001 -0.7568025  -0.95892427]\n",
            "Log values of array1: [0.69314718 1.09861229 1.38629436 1.60943791 1.79175947]\n",
            "Log2 values of array1: [1.         1.5849625  2.         2.32192809 2.5849625 ]\n",
            "Exponential values of array1: [  2.71828183   7.3890561   20.08553692  54.59815003 148.4131591 ]\n",
            "Sine values of array2: [ 0.84147098  0.90929743  0.14112001 -0.7568025  -0.95892427]\n",
            "Log values of array2: [1.94591015 2.07944154 2.19722458 2.30258509 2.39789527]\n",
            "Log2 values of array2: [2.80735492 3.         3.169925   3.32192809 3.45943162]\n",
            "Exponential values of array2: [  403.42879349  1096.63315843  2980.95798704  8103.08392758\n",
            " 22026.46579481]\n",
            "Addition DataFrame:\n",
            "    Numbers\n",
            "0        7\n",
            "1        9\n",
            "2       11\n",
            "3       13\n",
            "4       15\n",
            "Multiplication DataFrame:\n",
            "    Numbers\n",
            "0        6\n",
            "1       14\n",
            "2       24\n",
            "3       36\n",
            "4       50\n"
          ]
        }
      ],
      "source": [
        "import numpy as np\n",
        "# 1.Lists\n",
        "list1 = [1, 2, 3,'humera', 4, 5]\n",
        "list2 = [6, 7, 8,'nuzhat', 9, 10]\n",
        "print(list1[:])\n",
        "print(list2[:])\n",
        "# Type\n",
        "print(\"Type of list1:\", type(list1))\n",
        "print(\"Type of list2:\", type(list2))\n",
        "\n",
        "# 2.Arrays\n",
        "array1 = np.array([1, 2, 3, 4, 5])\n",
        "array2 = np.array([6, 7, 8, 9, 10])\n",
        "print(array1[:])\n",
        "print(array2[:])\n",
        "# Type\n",
        "print(\"Type of array1:\", type(array1))\n",
        "print(\"Type of array2:\", type(array2))\n",
        "\n",
        "# 3.Mathematical operations\n",
        "multiplication = array1 * array2\n",
        "division = array1 / array2\n",
        "poweroff = array1 ** 2\n",
        "print(\"Multiplication of array1 and array2:\", multiplication)\n",
        "print(\"Division of array1 by array2:\", division)\n",
        "print(\"Power of array1:\", poweroff)\n",
        "\n",
        "# 4.Combining text with numpy function to get textual output\n",
        "add_text = f\"Addition of Two:\\n{array1} + {array2} = {array1 + array2}\"\n",
        "print(add_text)\n",
        "\n",
        "# 5.implement np.sin(), log(), log2(), np.exp())\n",
        "sin_values = np.sin(array1)\n",
        "log_values = np.log(array1 + 1)  # Adding 1 to avoid log(0)\n",
        "log2_values = np.log2(array1 + 1)  # Adding 1 to avoid log2(0)\n",
        "exp_values = np.exp(array1)\n",
        "print(\"Sine values of array1:\", sin_values)\n",
        "print(\"Log values of array1:\", log_values)\n",
        "print(\"Log2 values of array1:\", log2_values)\n",
        "print(\"Exponential values of array1:\", exp_values)\n",
        "\n",
        "# for array 2\n",
        "sin_values2 = np.sin(array1)\n",
        "log_values2 = np.log(array2+ 1)  # Adding 1 to avoid log(0)\n",
        "log2_values2 = np.log2(array2 + 1)  # Adding 1 to avoid log2(0)\n",
        "exp_values2 = np.exp(array2)\n",
        "print(\"Sine values of array2:\", sin_values2)\n",
        "print(\"Log values of array2:\", log_values2)\n",
        "print(\"Log2 values of array2:\", log2_values2)\n",
        "print(\"Exponential values of array2:\", exp_values2)\n",
        "\n",
        "# Operations Using Pandas\n",
        "import pandas as pd\n",
        "list1 = [1, 2, 3, 4, 5]                       # Lists to be converted into DataFrames\n",
        "list2 = [6, 7, 8, 9, 10]\n",
        "df1 = pd.DataFrame(list1, columns=['Numbers']) # Creating DataFrames from lists\n",
        "df2 = pd.DataFrame(list2, columns=['Numbers'])\n",
        "df2.index = df1.index                         # Ensure both DataFrames have the same index\n",
        "df_addition = df1.add(df2, fill_value=0)      # Performing operations using Pandas\n",
        "df_multiplication = df1.multiply(df2, fill_value=1)\n",
        "print(\"Addition DataFrame:\\n\", df_addition)\n",
        "print(\"Multiplication DataFrame:\\n\", df_multiplication)\n",
        "\n",
        "\n",
        "\n",
        "\n",
        "\n",
        "\n",
        "\n",
        "\n"
      ]
    }
  ]
}